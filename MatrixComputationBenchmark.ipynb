{
 "cells": [
  {
   "cell_type": "code",
   "execution_count": 5,
   "id": "b3526e33",
   "metadata": {},
   "outputs": [
    {
     "name": "stdout",
     "output_type": "stream",
     "text": [
      "\n",
      "X * X^T [ (15000 x 15000) * (15000 x 15000)^T matrice di valori complessi] \n",
      " \n",
      "Time using Neural Network Fully Connected:  0.7437911033630371  [sec]\n",
      "First element: tensor(-0.7220+0.6919j)\n",
      "Last element: tensor(0.8627+0.5058j)\n",
      "\n",
      "Time using torch.matmul default function:  40.42633318901062  [sec]\n",
      "First element: tensor(-0.7220+0.6919j)\n",
      "Last element: tensor(0.8627+0.5058j)\n",
      "\n",
      "Time using einsum optimized** function:  46.65758204460144  [sec]\n",
      "First element: tensor(-0.7220+0.6919j)\n",
      "Last element: tensor(0.8627+0.5058j)\n",
      "\n",
      "** Einsum reference: https://arxiv.org/pdf/2204.06045.pdf \n",
      "\n"
     ]
    }
   ],
   "source": [
    "import torch\n",
    "import torch.nn as nn\n",
    "import time\n",
    "\n",
    "def einsum(a,b): return torch.einsum('ij, jk -> ik', a, b)\n",
    "\n",
    "\n",
    "X = torch.exp(1j * 2 * 3.1426 * torch.randn(15000, 15000, device='cpu'))\n",
    "torch.manual_seed(1)\n",
    "\n",
    "t0 = time.time()\n",
    "netofmodel = nn.Linear(in_features=15000, out_features=1, bias=False, device='cpu', dtype=torch.cfloat)\n",
    "Y = netofmodel(X)\n",
    "t1 = time.time()\n",
    "\n",
    "print(\"\\nX * X^T [ (15000 x 15000) * (15000 x 15000)^T matrice di valori complessi] \\n \")\n",
    "print(\"Time using Neural Network Fully Connected: \", t1 - t0, \" [sec]\")\n",
    "print(\"First element:\", X[0][0])\n",
    "print(\"Last element:\", X[14999][14999])\n",
    "\n",
    "t0 = time.time()\n",
    "Y = einsum(X,X)\n",
    "t1 = time.time()\n",
    "\n",
    "print(\"\\nTime using torch.matmul default function: \", t1 - t0, \" [sec]\")\n",
    "\n",
    "print(\"First element:\", X[0][0])\n",
    "print(\"Last element:\", X[14999][14999])\n",
    "\n",
    "t0 = time.time()\n",
    "Y = torch.matmul(X,X)\n",
    "t1 = time.time()\n",
    "\n",
    "print(\"\\nTime using einsum optimized** function: \", t1 - t0, \" [sec]\")\n",
    "print(\"First element:\", X[0][0])\n",
    "print(\"Last element:\", X[14999][14999])\n",
    "\n",
    "print(\"\\n** Einsum reference: https://arxiv.org/pdf/2204.06045.pdf \\n\")"
   ]
  },
  {
   "cell_type": "code",
   "execution_count": null,
   "id": "637fd6d4",
   "metadata": {},
   "outputs": [],
   "source": []
  },
  {
   "cell_type": "code",
   "execution_count": null,
   "id": "723b4472",
   "metadata": {},
   "outputs": [],
   "source": []
  },
  {
   "cell_type": "code",
   "execution_count": null,
   "id": "6ab8ba08",
   "metadata": {},
   "outputs": [],
   "source": []
  }
 ],
 "metadata": {
  "kernelspec": {
   "display_name": "Python 3 (ipykernel)",
   "language": "python",
   "name": "python3"
  },
  "language_info": {
   "codemirror_mode": {
    "name": "ipython",
    "version": 3
   },
   "file_extension": ".py",
   "mimetype": "text/x-python",
   "name": "python",
   "nbconvert_exporter": "python",
   "pygments_lexer": "ipython3",
   "version": "3.8.15"
  }
 },
 "nbformat": 4,
 "nbformat_minor": 5
}
